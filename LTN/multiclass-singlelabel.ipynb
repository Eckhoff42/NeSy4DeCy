{
 "cells": [
  {
   "cell_type": "markdown",
   "metadata": {},
   "source": [
    "# Multi-Class Single-Label classification"
   ]
  },
  {
   "cell_type": "code",
   "execution_count": 2,
   "metadata": {},
   "outputs": [
    {
     "name": "stderr",
     "output_type": "stream",
     "text": [
      "2024-04-27 22:38:11.392488: I external/local_tsl/tsl/cuda/cudart_stub.cc:32] Could not find cuda drivers on your machine, GPU will not be used.\n",
      "2024-04-27 22:38:11.400352: I external/local_tsl/tsl/cuda/cudart_stub.cc:32] Could not find cuda drivers on your machine, GPU will not be used.\n",
      "2024-04-27 22:38:11.474694: I tensorflow/core/platform/cpu_feature_guard.cc:210] This TensorFlow binary is optimized to use available CPU instructions in performance-critical operations.\n",
      "To enable the following instructions: AVX2 FMA, in other operations, rebuild TensorFlow with the appropriate compiler flags.\n",
      "2024-04-27 22:38:13.073605: W tensorflow/compiler/tf2tensorrt/utils/py_utils.cc:38] TF-TRT Warning: Could not find TensorRT\n"
     ]
    }
   ],
   "source": [
    "import os\n",
    "os.environ[\"NUMEXPR_MAX_THREADS\"] = \"16\"\n",
    "\n",
    "import logging; logging.basicConfig(level=logging.INFO)\n",
    "import tensorflow as tf\n",
    "import pandas as pd\n",
    "import ltn"
   ]
  },
  {
   "cell_type": "code",
   "execution_count": 4,
   "metadata": {},
   "outputs": [],
   "source": [
    "# Define meta variables\n",
    "test_fraction = 0.7\n",
    "training_fraction = 1 - test_fraction\n",
    "batch_size = 10000"
   ]
  },
  {
   "cell_type": "markdown",
   "metadata": {},
   "source": [
    "Specify domain knowledge from the description of the IDS2017 dataset."
   ]
  },
  {
   "cell_type": "code",
   "execution_count": 3,
   "metadata": {},
   "outputs": [],
   "source": [
    "\n",
    "# list of all ips in the victim network in IDS 2017\n",
    "own_win_servers = [\n",
    "    \"192.168.10.3\",\n",
    "]\n",
    "own_linux_servers = [\n",
    "    \"192.168.10.50\",\n",
    "    \"205.174.165.68\",\n",
    "    \"192.168.10.51\",\n",
    "    \"205.174.165.66\",\n",
    "]\n",
    "\n",
    "own_ubuntu_pcs = [\n",
    "    \"192.168.10.19\",\n",
    "    \"192.168.10.17\",\n",
    "    \"192.168.10.16\",\n",
    "    \"192.168.10.12\",\n",
    "]\n",
    "own_windows_pcs = [\n",
    "    \"192.168.10.9\",\n",
    "    \"192.168.10.5\",\n",
    "    \"192.168.10.8\",\n",
    "    \"192.168.10.14\",\n",
    "    \"192.168.10.15\",\n",
    "]\n",
    "own_mac_pcs = [\n",
    "    \"192.168.10.25\",\n",
    "]\n",
    "\n",
    "own_server = own_win_servers + own_linux_servers\n",
    "own_pcs = own_ubuntu_pcs + own_windows_pcs + own_mac_pcs\n",
    "own_ips = own_server + own_pcs\n",
    "webserver_ips = [\"192.168.10.50\", \"192.168.10.51\"]"
   ]
  },
  {
   "cell_type": "markdown",
   "metadata": {},
   "source": [
    "# Data\n",
    "| Type netflow  | Antall |\n",
    "|---------------|--------|\n",
    "|BENIGN         | 168 185|\n",
    "|Brute Force    |   1 507|\n",
    "|XSS            |     652|\n",
    "|||\n",
    "| **Totalt**    | **170 365**|\n",
    "\n",
    "Train / test = 70% / 30%\n",
    "\n",
    "### Individual example\n",
    "\n",
    "| Attribute | example value |\n",
    "|-----------|---------------|\n",
    "|Protocol    | 6.0|\n",
    "|Flow Duration  | 113095465.0|\n",
    "|Total Length of Fwd Packets |  9668.0   |\n",
    "|Total Length of Bwd Packets  |   10012.0|\n",
    "|Fwd Header Length   |  1536.0|\n",
    "|Bwd Header Length | 768.0\n",
    "|Label | Benign|"
   ]
  },
  {
   "cell_type": "code",
   "execution_count": 3,
   "metadata": {},
   "outputs": [
    {
     "name": "stdout",
     "output_type": "stream",
     "text": [
      "       Source IP   Source Port  Destination IP   Destination Port   Protocol  \\\n",
      "0  192.168.10.50         33898    192.168.10.3                389          6   \n",
      "1  192.168.10.50         33904    192.168.10.3                389          6   \n",
      "2        8.6.0.1             0         8.0.6.4                  0          0   \n",
      "\n",
      "    Flow Duration  Total Length of Fwd Packets   Total Length of Bwd Packets  \\\n",
      "0       113095465                         9668                       10012.0   \n",
      "1       113473706                        11364                       12718.0   \n",
      "2       119945515                            0                           0.0   \n",
      "\n",
      "    Fwd Header Length   Bwd Header Length  Fwd PSH Flags  FIN Flag Count  \\\n",
      "0                1536                 768              1               0   \n",
      "1                2176                1280              1               0   \n",
      "2                   0                   0              0               0   \n",
      "\n",
      "    Bwd Packet Length Min  Init_Win_bytes_forward   Init_Win_bytes_backward  \\\n",
      "0                     316                     571                      2079   \n",
      "1                     126                     390                      2081   \n",
      "2                       0                      -1                        -1   \n",
      "\n",
      "    Subflow Fwd Bytes  Total Length of Fwd Packets.1   Label  \n",
      "0                9668                           9668  BENIGN  \n",
      "1               11364                          11364  BENIGN  \n",
      "2                   0                              0  BENIGN  \n"
     ]
    }
   ],
   "source": [
    "with open(\"out.csv\", \"r\") as file:\n",
    "    dataset = pd.read_csv(file, delimiter=\",\")\n",
    "\n",
    "print(dataset.head(3))"
   ]
  },
  {
   "cell_type": "markdown",
   "metadata": {},
   "source": [
    "## Partition the training set and test set"
   ]
  },
  {
   "cell_type": "code",
   "execution_count": 4,
   "metadata": {},
   "outputs": [],
   "source": [
    "# Normalize all columns between 0 and 1\n",
    "for column in dataset.columns:\n",
    "    if column not in [\" Label\", \" Source IP\", \" Destination IP\"]:\n",
    "        dataset[column] = (dataset[column] - dataset[column].min()) / (\n",
    "            dataset[column].max() - dataset[column].min()\n",
    "        )"
   ]
  },
  {
   "cell_type": "code",
   "execution_count": 5,
   "metadata": {},
   "outputs": [],
   "source": [
    "dataset[\"is_webserver\"] = dataset[\" Destination IP\"].apply(\n",
    "    lambda x: 1 if x in webserver_ips else 0\n",
    ")\n",
    "dataset[\"from_own_network\"] = dataset[\" Source IP\"].apply(\n",
    "    lambda x: 1 if x in own_ips else 0\n",
    ")\n",
    "dataset[\"to_own_network\"] = dataset[\" Destination IP\"].apply(\n",
    "    lambda x: 1 if x in own_ips else 0\n",
    ")\n",
    "## remove the columns \" Source IP\" and \" Destination IP\"\n",
    "dataset = dataset.drop(columns=[\" Source IP\", \" Destination IP\"])\n",
    "\n"
   ]
  },
  {
   "cell_type": "code",
   "execution_count": 6,
   "metadata": {},
   "outputs": [
    {
     "name": "stdout",
     "output_type": "stream",
     "text": [
      "    Source Port   Destination Port   Protocol   Flow Duration  \\\n",
      "0      0.517258           0.005936   0.352941        0.942462   \n",
      "1      0.517350           0.005936   0.352941        0.945614   \n",
      "2      0.000000           0.000000   0.000000        0.999546   \n",
      "\n",
      "   Total Length of Fwd Packets   Total Length of Bwd Packets  \\\n",
      "0                     0.008076                      0.000016   \n",
      "1                     0.009492                      0.000020   \n",
      "2                     0.000000                      0.000000   \n",
      "\n",
      "    Fwd Header Length   Bwd Header Length  Fwd PSH Flags  FIN Flag Count  \\\n",
      "0            0.000368            0.000142            1.0             0.0   \n",
      "1            0.000521            0.000236            1.0             0.0   \n",
      "2            0.000000            0.000000            0.0             0.0   \n",
      "\n",
      "    Bwd Packet Length Min  Init_Win_bytes_forward   Init_Win_bytes_backward  \\\n",
      "0                0.216438                0.008728                  0.031738   \n",
      "1                0.086301                0.005966                  0.031769   \n",
      "2                0.000000                0.000000                  0.000000   \n",
      "\n",
      "    Subflow Fwd Bytes  Total Length of Fwd Packets.1   Label  is_webserver  \\\n",
      "0            0.008076                       0.008076  BENIGN             0   \n",
      "1            0.009492                       0.009492  BENIGN             0   \n",
      "2            0.000000                       0.000000  BENIGN             0   \n",
      "\n",
      "   from_own_network  to_own_network  \n",
      "0                 1               1  \n",
      "1                 1               1  \n",
      "2                 0               0  \n"
     ]
    }
   ],
   "source": [
    "print(dataset.head(3))"
   ]
  },
  {
   "cell_type": "code",
   "execution_count": 7,
   "metadata": {},
   "outputs": [
    {
     "name": "stdout",
     "output_type": "stream",
     "text": [
      "Try number:  1\n"
     ]
    },
    {
     "name": "stderr",
     "output_type": "stream",
     "text": [
      "2024-03-11 10:59:25.493468: I tensorflow/core/common_runtime/process_util.cc:146] Creating new thread pool with default inter op setting: 2. Tune using inter_op_parallelism_threads for best performance.\n"
     ]
    }
   ],
   "source": [
    "done = False\n",
    "nr_tries = 1\n",
    "\n",
    "while (not done):\n",
    "    print(\"Try number: \", nr_tries)\n",
    "    nr_tries += 1\n",
    "    # partition the dataset into 4 classes\n",
    "    benign = dataset[dataset[\" Label\"] == \"BENIGN\"]\n",
    "    brute_force = dataset[dataset[\" Label\"] == \"Web Attack � Brute Force\"]\n",
    "    xss = dataset[dataset[\" Label\"] == \"Web Attack � XSS\"]\n",
    "\n",
    "    # keep 50000 random samples of the benign class\n",
    "    # benign_cpy = benign.copy()\n",
    "    # benign = benign.sample(n=1300)\n",
    "    # benign_cpy = benign_cpy.drop(benign.index)\n",
    "\n",
    "    # 70% of each class for training and the remainding 30% for testing\n",
    "    benign_train = benign.sample(frac=test_fraction)\n",
    "    benign_test = benign.drop(benign_train.index)\n",
    "    brute_force_train = brute_force.sample(frac=test_fraction)\n",
    "    brute_force_test = brute_force.drop(brute_force_train.index)\n",
    "    xss_train = xss.sample(frac=test_fraction)\n",
    "    xss_test = xss.drop(xss_train.index)\n",
    "\n",
    "    # randomly conatenate all the dataframes\n",
    "    training_set = pd.concat([benign_train, brute_force_train, xss_train])\n",
    "    test_set = pd.concat([benign_test, brute_force_test, xss_test])\n",
    "\n",
    "    # # create final test set\n",
    "    # final_test_set = pd.concat([benign_cpy, brute_force_test, xss_test])\n",
    "    # final_test_labels = final_test_set.pop(\" Label\")\n",
    "    # final_test_labels = final_test_labels.replace(\"BENIGN\", 0).replace(\"Web Attack � Brute Force\", 1).replace(\"Web Attack � XSS\", 2)\n",
    "    # final_test_metadata = final_test_set[[\"is_webserver\", \"from_own_network\", \"to_own_network\"]]\n",
    "    # final_test_set = final_test_set.drop(columns=[\"is_webserver\", \"from_own_network\", \"to_own_network\"])\n",
    "\n",
    "    # shuffle the dataframes\n",
    "    training_set = training_set.sample(frac=1).reset_index(drop=True)\n",
    "    test_set = test_set.sample(frac=1).reset_index(drop=True)\n",
    "\n",
    "    labels_train = training_set.pop(\" Label\")\n",
    "    labels_test = test_set.pop(\" Label\")\n",
    "    ## create a metadata tensor with the columns \"is_webserver\", \"from_own_network\", \"to_own_network\"\n",
    "    metadata_train = training_set[[\"is_webserver\", \"from_own_network\", \"to_own_network\"]]\n",
    "    metadata_test = test_set[[\"is_webserver\", \"from_own_network\", \"to_own_network\"]]\n",
    "    # remove the columns \"is_webserver\", \"from_own_network\", \"to_own_network\" from the training and test set\n",
    "    training_set = training_set.drop(columns=[\"is_webserver\", \"from_own_network\", \"to_own_network\"])\n",
    "    test_set = test_set.drop(columns=[\"is_webserver\", \"from_own_network\", \"to_own_network\"])\n",
    "\n",
    "    # convert the labels to a numeric value\n",
    "    labels_train = labels_train.replace(\"BENIGN\", 0)\n",
    "    labels_train = labels_train.replace(\"Web Attack � Brute Force\", 1)\n",
    "    labels_train = labels_train.replace(\"Web Attack � XSS\", 2)\n",
    "\n",
    "    labels_test = labels_test.replace(\"BENIGN\", 0)\n",
    "    labels_test = labels_test.replace(\"Web Attack � Brute Force\", 1)\n",
    "    labels_test = labels_test.replace(\"Web Attack � XSS\", 2)\n",
    "\n",
    "    ds_train = tf.data.Dataset.from_tensor_slices(\n",
    "        (training_set, labels_train, metadata_train)\n",
    "    ).batch(batch_size)\n",
    "    ds_test = tf.data.Dataset.from_tensor_slices(\n",
    "        (test_set, labels_test, metadata_test)\n",
    "    ).batch(batch_size)\n",
    "\n",
    "    ## ~~test part~~\n",
    "    done = True\n",
    "\n",
    "    batches_train = len(training_set) // batch_size\n",
    "    batches_test = len(test_set) // batch_size\n",
    "    for i in range(batches_train):\n",
    "        benign_count = 0\n",
    "        brute_force_count = 0\n",
    "        xss_count = 0\n",
    "        for j in range(i * batch_size, (i + 1) * batch_size):\n",
    "            # count the number of benign, brute force and xss attacks in the training set\n",
    "\n",
    "            if labels_train[j] == 0:\n",
    "                benign_count += 1\n",
    "            elif labels_train[j] == 1:\n",
    "                brute_force_count += 1\n",
    "            else:\n",
    "                xss_count += 1\n",
    "        if benign_count == 0 or brute_force_count == 0 or xss_count == 0:\n",
    "            done = False\n",
    "    for i in range(batches_test):\n",
    "        benign_count = 0\n",
    "        brute_force_count = 0\n",
    "        xss_count = 0\n",
    "        for j in range(i * batch_size, (i + 1) * batch_size):\n",
    "            # count the number of benign, brute force and xss attacks in the test set\n",
    "            if labels_test[j] == 0:\n",
    "                benign_count += 1\n",
    "            elif labels_test[j] == 1:\n",
    "                brute_force_count += 1\n",
    "            else:\n",
    "                xss_count += 1\n",
    "        if benign_count == 0 or brute_force_count == 0 or xss_count == 0:\n",
    "            done = False"
   ]
  },
  {
   "cell_type": "code",
   "execution_count": 8,
   "metadata": {},
   "outputs": [
    {
     "name": "stdout",
     "output_type": "stream",
     "text": [
      "    Source Port   Destination Port   Protocol   Flow Duration  \\\n",
      "0      0.235923           0.000809   1.000000        0.000001   \n",
      "1      0.962966           0.000809   1.000000        0.000260   \n",
      "2      0.539262           0.006760   0.352941        0.968802   \n",
      "\n",
      "   Total Length of Fwd Packets   Total Length of Bwd Packets  \\\n",
      "0                     0.000053                  1.913876e-07   \n",
      "1                     0.000127                  3.221691e-07   \n",
      "2                     0.000979                  6.430622e-06   \n",
      "\n",
      "    Fwd Header Length   Bwd Header Length  Fwd PSH Flags  FIN Flag Count  \\\n",
      "0            0.000015            0.000012            0.0             0.0   \n",
      "1            0.000025            0.000012            0.0             0.0   \n",
      "2            0.000115            0.000071            0.0             0.0   \n",
      "\n",
      "    Bwd Packet Length Min  Init_Win_bytes_forward   Init_Win_bytes_backward  \\\n",
      "0                0.041096                0.000000                  0.000000   \n",
      "1                0.069178                0.000000                  0.000000   \n",
      "2                0.001370                0.445572                  0.624985   \n",
      "\n",
      "    Subflow Fwd Bytes  Total Length of Fwd Packets.1  \n",
      "0            0.000053                       0.000053  \n",
      "1            0.000127                       0.000127  \n",
      "2            0.000979                       0.000979  \n"
     ]
    }
   ],
   "source": [
    "print(training_set.head(3))"
   ]
  },
  {
   "cell_type": "code",
   "execution_count": 9,
   "metadata": {},
   "outputs": [
    {
     "name": "stdout",
     "output_type": "stream",
     "text": [
      "~~~Train~~~\n",
      "from 0 to 10000: benign: 9878, brute force: 80, xss: 42\n",
      "from 10000 to 20000: benign: 9881, brute force: 84, xss: 35\n",
      "from 20000 to 30000: benign: 9881, brute force: 88, xss: 31\n",
      "from 30000 to 40000: benign: 9867, brute force: 90, xss: 43\n",
      "from 40000 to 50000: benign: 9872, brute force: 97, xss: 31\n",
      "from 50000 to 60000: benign: 9865, brute force: 95, xss: 40\n",
      "from 60000 to 70000: benign: 9866, brute force: 99, xss: 35\n",
      "from 70000 to 80000: benign: 9873, brute force: 81, xss: 46\n",
      "from 80000 to 90000: benign: 9849, brute force: 97, xss: 54\n",
      "from 90000 to 100000: benign: 9876, brute force: 86, xss: 38\n",
      "from 100000 to 110000: benign: 9898, brute force: 74, xss: 28\n",
      "\n",
      "~~~Test~~~\n",
      "from 0 to 10000: benign: 9880, brute force: 85, xss: 35\n",
      "from 10000 to 20000: benign: 9868, brute force: 99, xss: 33\n",
      "from 20000 to 30000: benign: 9876, brute force: 84, xss: 40\n",
      "from 30000 to 40000: benign: 9860, brute force: 95, xss: 45\n",
      "from 40000 to 50000: benign: 9878, brute force: 83, xss: 39\n"
     ]
    }
   ],
   "source": [
    "batches_train = len(training_set) // batch_size\n",
    "batches_test = len(test_set) // batch_size\n",
    "print(\"~~~Train~~~\")\n",
    "for i in range(batches_train):\n",
    "    benign_count = 0\n",
    "    brute_force_count = 0\n",
    "    xss_count = 0\n",
    "    for j in range(i*batch_size, (i+1)*batch_size):\n",
    "        # count the number of benign, brute force and xss attacks in the training set\n",
    "        \n",
    "        if labels_train[j] == 0:\n",
    "            benign_count += 1\n",
    "        elif labels_train[j] == 1:\n",
    "            brute_force_count += 1\n",
    "        else:\n",
    "            xss_count += 1\n",
    "    print(f\"from {i*batch_size} to {(i+1)*batch_size}: benign: {benign_count}, brute force: {brute_force_count}, xss: {xss_count}\")\n",
    "\n",
    "print(\"\\n~~~Test~~~\")\n",
    "for i in range(batches_test):\n",
    "    benign_count = 0\n",
    "    brute_force_count = 0\n",
    "    xss_count = 0\n",
    "    for j in range(i*batch_size, (i+1)*batch_size):\n",
    "        # count the number of benign, brute force and xss attacks in the test set\n",
    "        if labels_test[j] == 0:\n",
    "            benign_count += 1\n",
    "        elif labels_test[j] == 1:\n",
    "            brute_force_count += 1\n",
    "        else:\n",
    "            xss_count += 1\n",
    "    print(f\"from {i*batch_size} to {(i+1)*batch_size}: benign: {benign_count}, brute force: {brute_force_count}, xss: {xss_count}\")\n"
   ]
  },
  {
   "cell_type": "markdown",
   "metadata": {},
   "source": [
    "# LTN\n",
    "Predicate for klassetilhørighet `P(x,class)`\n",
    "\n",
    "En fully connected MLP (16,16,8)"
   ]
  },
  {
   "cell_type": "code",
   "execution_count": 38,
   "metadata": {},
   "outputs": [],
   "source": [
    "class MLP(tf.keras.Model):\n",
    "    \"\"\"Model that returns logits.\"\"\"\n",
    "\n",
    "    def __init__(self, n_classes, hidden_layer_sizes=(16, 16, 8)):\n",
    "        super(MLP, self).__init__()\n",
    "        self.denses = [\n",
    "            tf.keras.layers.Dense(s, activation=\"elu\") for s in hidden_layer_sizes\n",
    "        ]\n",
    "        self.dense_class = tf.keras.layers.Dense(n_classes)\n",
    "        self.dropout = tf.keras.layers.Dropout(0.2)\n",
    "\n",
    "    def call(self, inputs, training=False):\n",
    "        x = inputs[0]\n",
    "        for dense in self.denses:\n",
    "            x = dense(x)\n",
    "            x = self.dropout(x, training=training)\n",
    "        return self.dense_class(x)\n",
    "\n",
    "\n",
    "logits_model = MLP(3)\n",
    "p = ltn.Predicate.FromLogits(\n",
    "    logits_model, activation_function=\"softmax\", with_class_indexing=True\n",
    ")"
   ]
  },
  {
   "cell_type": "markdown",
   "metadata": {},
   "source": [
    "Definere klassene `Benign, brute force, xss`"
   ]
  },
  {
   "cell_type": "code",
   "execution_count": 39,
   "metadata": {},
   "outputs": [],
   "source": [
    "class_benign = ltn.Constant(0, trainable=False)\n",
    "class_brute_force = ltn.Constant(1, trainable=False)\n",
    "class_xss = ltn.Constant(2, trainable=False)\n",
    "\n",
    "def get_class_name(class_index):\n",
    "    if class_index == 0:\n",
    "        return \"BENIGN\"\n",
    "    elif class_index == 1:\n",
    "        return \"Brute Force\"\n",
    "    else:\n",
    "        return \"XSS\""
   ]
  },
  {
   "cell_type": "code",
   "execution_count": 40,
   "metadata": {},
   "outputs": [],
   "source": [
    "Not = ltn.Wrapper_Connective(ltn.fuzzy_ops.Not_Std())\n",
    "And = ltn.Wrapper_Connective(ltn.fuzzy_ops.And_Prod())\n",
    "Or = ltn.Wrapper_Connective(ltn.fuzzy_ops.Or_ProbSum())\n",
    "Implies = ltn.Wrapper_Connective(ltn.fuzzy_ops.Implies_Reichenbach())\n",
    "Forall = ltn.Wrapper_Quantifier(ltn.fuzzy_ops.Aggreg_pMeanError(p=2),semantics=\"forall\")"
   ]
  },
  {
   "cell_type": "markdown",
   "metadata": {},
   "source": [
    "# Definerer Real logic statements \n",
    "\n",
    "<p align=\"center\"> <i> Ground with labeled data </i> </p>\n",
    "\n",
    "$$ \\forall x\\_l\\_benign P(x\\_l\\_benign, Class\\_Benign) $$\n",
    "$$ \\forall x\\_l\\_bruteForce P(x\\_l\\_bruteForce, Class\\_BruteForce) $$\n",
    "$$ \\forall x\\_l\\_xss P(x\\_l\\_xss, Class\\_XSS) $$\n",
    "\n",
    "---\n",
    "\n",
    "<p align=\"center\"> <i>Any non-websever cannot be classified as having a web-attack</i> </p>\n",
    "\n",
    "$$ \\forall x\\_not\\_webserver \\neg (P(x\\_not\\_webserver, Class\\_bruteForce) \\wedge P(x\\_not\\_webserver, Class\\_XSS)) $$\n",
    "\n",
    "---\n",
    "\n",
    "<p align=\"center\"> <i>Taffic between two nodes the server owns cannot be a webattack</i> </p>\n",
    "\n",
    "$$ \\forall x\\_internal\\_communication \\neg (P(x\\_internal\\_communication, Class\\_bruteForce) \\wedge P(x\\_internal\\_communication, Class\\_XSS)) $$\n",
    "\n"
   ]
  },
  {
   "cell_type": "code",
   "execution_count": 41,
   "metadata": {},
   "outputs": [],
   "source": [
    "formula_aggregator = ltn.Wrapper_Formula_Aggregator(\n",
    "    ltn.fuzzy_ops.Aggreg_pMeanError(p=2)\n",
    ")\n",
    "\n",
    "\n",
    "@tf.function\n",
    "def axioms(features, labels, metadata, training=False):     \n",
    "    x_Benign = ltn.Variable(\"x_Benign\", features[labels == 0])\n",
    "    x_Brute_Force = ltn.Variable(\"x_Brute_Force\", features[labels == 1])\n",
    "    x_XSS = ltn.Variable(\"x_XSS\", features[labels == 2])\n",
    "\n",
    "\n",
    "    # # traffic from webserver\n",
    "    # ws_index = list(metadata_train.columns).index(\"is_webserver\")\n",
    "    # x_not_webserver = ltn.Variable(\n",
    "    #     \"x_not_webserver\", features[metadata[:, ws_index] == 0]\n",
    "    # )\n",
    "\n",
    "    # traffic where from_own_network = 1 and to_own_network = 1\n",
    "    from_index = list(metadata_train.columns).index(\"from_own_network\")\n",
    "    to_index = list(metadata_train.columns).index(\"to_own_network\")\n",
    "    x_internal_traffic = ltn.Variable(\n",
    "        \"x_internal_traffic\",\n",
    "        features[(metadata[:, from_index] == 1) & (metadata[:, to_index] == 1)],\n",
    "    )\n",
    "\n",
    "    axioms = [\n",
    "        Forall(x_Benign, p([x_Benign, class_benign], training=training)),\n",
    "        Forall(x_Brute_Force, p([x_Brute_Force, class_brute_force], training=training)),\n",
    "        Forall(x_XSS, p([x_XSS, class_xss], training=training)),\n",
    "        # only webserver traffic is brute force or xss\n",
    "        # Forall(\n",
    "        #     x_not_webserver,\n",
    "        #     Not(\n",
    "        #         Or(\n",
    "        #             p([x_not_webserver, class_brute_force], training=training),\n",
    "        #             p([x_not_webserver, class_xss], training=training),\n",
    "        #         )\n",
    "        #     ),\n",
    "        # ),\n",
    "        # Internal traffic is not brute force or xss\n",
    "        Forall(\n",
    "            x_internal_traffic,\n",
    "            Not(\n",
    "                Or(\n",
    "                    p([x_internal_traffic, class_brute_force], training=training),\n",
    "                    p([x_internal_traffic, class_xss], training=training),\n",
    "                )\n",
    "            ),\n",
    "        )\n",
    "    ]\n",
    "    sat_level = formula_aggregator(axioms).tensor\n",
    "    return sat_level"
   ]
  },
  {
   "cell_type": "markdown",
   "metadata": {},
   "source": [
    "Initialize all layers and the static graph"
   ]
  },
  {
   "cell_type": "code",
   "execution_count": 42,
   "metadata": {},
   "outputs": [
    {
     "name": "stdout",
     "output_type": "stream",
     "text": [
      "Initial sat level 0.33972\n"
     ]
    }
   ],
   "source": [
    "for features, labels, metadata in ds_test:\n",
    "    print(\"Initial sat level %.5f\"%axioms(features,labels, metadata))\n",
    "    break\n"
   ]
  },
  {
   "cell_type": "markdown",
   "metadata": {},
   "source": [
    "# Training"
   ]
  },
  {
   "cell_type": "code",
   "execution_count": 43,
   "metadata": {},
   "outputs": [],
   "source": [
    "metrics_dict = {\n",
    "    'train_sat_kb': tf.keras.metrics.Mean(name='train_sat_kb'),\n",
    "    'test_sat_kb': tf.keras.metrics.Mean(name='test_sat_kb'),\n",
    "    'train_accuracy': tf.keras.metrics.CategoricalAccuracy(name=\"train_accuracy\"),\n",
    "    'test_accuracy': tf.keras.metrics.CategoricalAccuracy(name=\"test_accuracy\")\n",
    "}"
   ]
  },
  {
   "cell_type": "markdown",
   "metadata": {},
   "source": [
    "### Outline\n",
    "1. Finn aggregert sannhet\n",
    "   1. Loss = 1 - aggregert sannhet\n",
    "2. Adam Optimizer for gradient descent "
   ]
  },
  {
   "cell_type": "code",
   "execution_count": 44,
   "metadata": {},
   "outputs": [],
   "source": [
    "optimizer = tf.keras.optimizers.Adam(learning_rate=0.001)\n",
    "@tf.function\n",
    "def train_step(features, labels, metadata):\n",
    "    # sat and update\n",
    "    with tf.GradientTape() as tape:\n",
    "        sat = axioms(features, labels, metadata, training=True)\n",
    "        loss = 1.-sat\n",
    "    gradients = tape.gradient(loss, p.trainable_variables)\n",
    "    optimizer.apply_gradients(zip(gradients, p.trainable_variables))\n",
    "\n",
    "    sat = axioms(features, labels, metadata) # compute sat without dropout\n",
    "    metrics_dict['train_sat_kb'](sat)\n",
    "    # accuracy\n",
    "    predictions = logits_model([features])\n",
    "    metrics_dict['train_accuracy'](tf.one_hot(labels,3),predictions)\n",
    "    \n",
    "@tf.function\n",
    "def test_step(features, labels, metadata):\n",
    "    # sat\n",
    "    sat = axioms(features, labels, metadata)\n",
    "    metrics_dict['test_sat_kb'](sat)\n",
    "    # accuracy\n",
    "    predictions = logits_model([features])\n",
    "    metrics_dict['test_accuracy'](tf.one_hot(labels,3),predictions)"
   ]
  },
  {
   "cell_type": "markdown",
   "metadata": {},
   "source": [
    "Train"
   ]
  },
  {
   "cell_type": "code",
   "execution_count": 90,
   "metadata": {},
   "outputs": [
    {
     "name": "stdout",
     "output_type": "stream",
     "text": [
      "Epoch 0, train_sat_kb: 0.6821, test_sat_kb: 0.6670, train_accuracy: 0.9323, test_accuracy: 0.9360\n",
      "Epoch 20, train_sat_kb: 0.6831, test_sat_kb: 0.6685, train_accuracy: 0.9309, test_accuracy: 0.9353\n",
      "Epoch 40, train_sat_kb: 0.6854, test_sat_kb: 0.6701, train_accuracy: 0.9337, test_accuracy: 0.9302\n",
      "Epoch 60, train_sat_kb: 0.6863, test_sat_kb: 0.6716, train_accuracy: 0.9355, test_accuracy: 0.9339\n",
      "Epoch 80, train_sat_kb: 0.6868, test_sat_kb: 0.6722, train_accuracy: 0.9296, test_accuracy: 0.9283\n",
      "Epoch 100, train_sat_kb: 0.6867, test_sat_kb: 0.6721, train_accuracy: 0.9282, test_accuracy: 0.9341\n",
      "Epoch 120, train_sat_kb: 0.6891, test_sat_kb: 0.6751, train_accuracy: 0.9316, test_accuracy: 0.9317\n",
      "Epoch 140, train_sat_kb: 0.6886, test_sat_kb: 0.6744, train_accuracy: 0.9337, test_accuracy: 0.9365\n",
      "Epoch 160, train_sat_kb: 0.6907, test_sat_kb: 0.6755, train_accuracy: 0.9359, test_accuracy: 0.9379\n",
      "Epoch 180, train_sat_kb: 0.6903, test_sat_kb: 0.6741, train_accuracy: 0.9391, test_accuracy: 0.9420\n"
     ]
    }
   ],
   "source": [
    "import importlib\n",
    "import commons\n",
    "importlib.reload(commons)\n",
    "EPOCHS = 200 # 400 \n",
    " \n",
    "commons.train(\n",
    "    EPOCHS,\n",
    "    metrics_dict,\n",
    "    ds_train,\n",
    "    ds_test,\n",
    "    train_step,\n",
    "    test_step,\n",
    "    csv_path=\"iris_results.csv\",\n",
    "    track_metrics=20\n",
    ")"
   ]
  },
  {
   "cell_type": "code",
   "execution_count": 91,
   "metadata": {},
   "outputs": [
    {
     "name": "stdout",
     "output_type": "stream",
     "text": [
      "Confusion Matrix\n",
      "tf.Tensor(\n",
      "[[47333  1872  1251]\n",
      " [    1   311   140]\n",
      " [    1    19   176]], shape=(3, 3), dtype=int32)\n",
      "|    Label    |  TP    |   FP  |   FN  | Precision | Recall |   F1  |  MCC  |\n",
      "|-------------|--------|-------|-------|-----------|--------|-------|-------|\n",
      "| BENIGN      |  47333 |     2 |  3123 |     1.000 |  0.938 | 0.968 | 0.400 |\n",
      "| Brute Force |    311 |  1891 |   141 |     0.141 |  0.688 | 0.234 | 0.300 |\n",
      "| XSS         |    176 |  1391 |    20 |     0.112 |  0.898 | 0.200 | 0.312 |\n"
     ]
    }
   ],
   "source": [
    "import math\n",
    "\n",
    "predictions = logits_model([tf.convert_to_tensor(test_set)])\n",
    "confusion_matrix = tf.math.confusion_matrix(\n",
    "    labels_test, tf.argmax(predictions, axis=1), num_classes=3\n",
    ")\n",
    "\n",
    "print(\"Confusion Matrix\")\n",
    "print(confusion_matrix)\n",
    "\n",
    "\n",
    "print(\"|    Label    |  TP    |   FP  |   FN  | Precision | Recall |   F1  |  MCC  |\")\n",
    "print(\"|-------------|--------|-------|-------|-----------|--------|-------|-------|\")\n",
    "\n",
    "# for each class, compute the precision, recall and f1 score\n",
    "for i in range(3):\n",
    "    tp = int((confusion_matrix[i, i]))\n",
    "    fn = int(tf.reduce_sum(confusion_matrix[i, :]) - confusion_matrix[i, i])\n",
    "    fp = int(tf.reduce_sum(confusion_matrix[:, i]) - confusion_matrix[i, i])\n",
    "    tn = int(tf.reduce_sum(confusion_matrix) - tp - fp - fn)\n",
    "\n",
    "\n",
    "    precision = tp / (tp + fp)\n",
    "    recall = tp / (tp + fn)\n",
    "    f1 = (2 * precision * recall) / (precision + recall)\n",
    "    mcc = (tp * tn - fp * fn) / math.sqrt(((tp + fp) * (tp + fn) * (tn + fp) * (tn + fn)))\n",
    "    print(\n",
    "        f\"| {get_class_name(i):11} | {tp:6} | {fp:5} | {fn:5} | {precision:9.3f} | {recall:6.3f} | {f1:5.3f} | {mcc:3.3f} |\"\n",
    "    )"
   ]
  },
  {
   "cell_type": "markdown",
   "metadata": {},
   "source": [
    "# Take 4\n",
    "``Individuals``: 51104\n",
    "`batch size`: 10000\n",
    "`epocs`: 200\n",
    "\n",
    "> no knowledge\n",
    "\n",
    "|    Label    |  TP    |   FP  |   FN  | Precision | Recall |   F1  | Check | \n",
    "|-------------|--------|-------|-------|-----------|--------|-------|-------|\n",
    "| BENIGN      |  46227 |    28 |  4229 |     0.999 |  0.916 | 0.956 |       |\n",
    "| Brute Force |    310 |  3143 |   142 |     0.090 |  0.686 | 0.159 | 452   |\n",
    "| XSS         |    123 |  1273 |    73 |     0.088 |  0.628 | 0.155 |       |\n",
    "| Sammen      |   4660 |  4444 |  4444 |     0.392 |  0.743 | 0.423 |       |\n",
    "\n",
    "> webattacks on web servers\n",
    "\n",
    "|    Label    |  TP    |   FP  |   FN  | Precision | Recall |   F1  | Check |\n",
    "|-------------|--------|-------|-------|-----------|--------|-------|-------|\n",
    "| BENIGN      |  48612 |    82 |  1844 |     0.998 |  0.963 | 0.981 |       |\n",
    "| Brute Force |    281 |  1533 |   171 |     0.155 |  0.622 | 0.248 | 452   |\n",
    "| XSS         |    127 |   469 |    69 |     0.213 |  0.648 | 0.321 |       |\n",
    "| Sammen      |  49020 |  2084 |  2084 |     0.455 |  0.744 | 0.517 |       |\n",
    "\n",
    "> no inside attacks\n",
    "\n",
    "|    Label    |  TP    |   FP  |   FN  | Precision | Recall |   F1  |  MCC  |\n",
    "|-------------|--------|-------|-------|-----------|--------|-------|-------|\n",
    "| BENIGN      |  47455 |    47 |  3001 |     0.999 |  0.941 | 0.969 | 0.379 |\n",
    "| Brute Force |    318 |  1853 |   134 |     0.146 |  0.704 | 0.242 | 0.310 |\n",
    "| XSS         |    122 |  1309 |    74 |     0.085 |  0.622 | 0.150 | 0.224 |\n",
    "| Sammen      |  47895 |  3209 |  3209 |     0.410 |  0.756 | 0.454 | 0.301 |\n",
    "\n",
    "> all knowledge\n",
    "\n",
    "|    Label    |  TP    |   FP  |   FN  | Precision | Recall |   F1  | Check |\n",
    "|-------------|--------|-------|-------|-----------|--------|-------|-------|\n",
    "| BENIGN      |  48680 |    82 |  1776 |     0.998 |  0.965 | 0.981 |       |\n",
    "| Brute Force |    271 |  1057 |   181 |     0.204 |  0.600 | 0.304 | 452   |\n",
    "| XSS         |    123 |   891 |    73 |     0.121 |  0.628 | 0.203 |       |\n",
    "| Sammen      |  49074 |  2030 |  2030 |     0,441 |  0,731 | 0.496 |       |\n"
   ]
  },
  {
   "cell_type": "code",
   "execution_count": 92,
   "metadata": {},
   "outputs": [
    {
     "data": {
      "image/png": "[encoded data removed]",
      "text/plain": [
       "<Figure size 640x480 with 1 Axes>"
      ]
     },
     "metadata": {},
     "output_type": "display_data"
    }
   ],
   "source": [
    "import matplotlib.pyplot as plt\n",
    "\n",
    "labels = [\"no knowledge\", \"webattacks\", \"inside attacks\", \" together\"]\n",
    "values = [0.423, 0.517, 0.454, 0.496]\n",
    "plt.bar(labels, values)\n",
    "plt.show()"
   ]
  },
  {
   "cell_type": "markdown",
   "metadata": {},
   "source": [
    "# Take 3\n",
    "`individuals` = 15648\n",
    "`batch size` = 1000 \n",
    "`epochs` = 100\n",
    "\n",
    "> no knowledge\n",
    "\n",
    "|    Label    | TP    |   FN  |   FP  | Recall    | Precision |   F1  |\n",
    "|-------------|-------|-------|-------|-----------|--------|-------|\n",
    "| BENIGN      | 13370 |  1630 |    12 |     0.891 |  0.999 | 0.942 |\n",
    "| Brute Force |   189 |   263 |  1330 |     0.418 |  0.124 | 0.192 |\n",
    "| XSS         |   130 |    66 |   617 |     0.663 |  0.174 | 0.276 |\n",
    "\n",
    "> web attack knowledge\n",
    "\n",
    "|    Label    | TP    |   FN  |   FP  | Recall    | Precision |   F1  |\n",
    "|-------------|-------|-------|-------|-----------|--------|-------|\n",
    "| BENIGN      | 14170 |   830 |    31 |     0.945 |  0.998 | 0.971 |\n",
    "| Brute Force |   330 |   122 |   580 |     0.730 |  0.363 | 0.485 |\n",
    "| XSS         |   129 |    67 |   408 |     0.658 |  0.240 | 0.352 |\n",
    "\n",
    "\n",
    "> inside attack knowledge\n",
    "\n",
    "|    Label    | TP    |   FN  |   FP  | Recall    | Precision |   F1  |\n",
    "|-------------|-------|-------|-------|-----------|--------|-------|\n",
    "| BENIGN      | 13885 |  1115 |    24 |     0.926 |  0.998 | 0.961 |\n",
    "| Brute Force |   237 |   215 |   829 |     0.524 |  0.222 | 0.312 |\n",
    "| XSS         |   130 |    66 |   543 |     0.663 |  0.193 | 0.299 |\n",
    "\n",
    "> web attack & inside attack knowledge\n",
    "\n",
    "|    Label    | TP    |   FN  |   FP  | Recall    | Precision |   F1  |\n",
    "|-------------|-------|-------|-------|-----------|--------|-------|\n",
    "| BENIGN      | 14297 |   703 |    68 |     0.953 |  0.995 | 0.974 |\n",
    "| Brute Force |   281 |   171 |   309 |     0.622 |  0.476 | 0.539 |\n",
    "| XSS         |   130 |    66 |   563 |     0.663 |  0.188 | 0.292 |\n",
    "\n"
   ]
  },
  {
   "cell_type": "code",
   "execution_count": null,
   "metadata": {},
   "outputs": [],
   "source": [
    "import matplotlib.pyplot as plt\n",
    "import numpy as np\n",
    "\n",
    "no_knowledge = [0.942, 0.192, 0.276]\n",
    "web_attack = [0.971, 0.485, 0.352]\n",
    "no_inside = [0.961, 0.312, 0.299]\n",
    "both = [0.971, 0.539, 0.292]\n",
    "\n",
    "labels = [\"Benign F1\", \"Brute Force F1\", \"XSS F1\"]\n",
    "x = np.arange(len(labels))\n",
    "width = 0.20\n",
    "fig, ax = plt.subplots()\n",
    "rects1 = ax.bar(x - width, no_knowledge, width, label=\"No Knowledge\")\n",
    "rects2 = ax.bar(x, web_attack, width, label=\"Web Attack\")\n",
    "rects3 = ax.bar(x + width, no_inside, width, label=\"No Inside\")\n",
    "rects4 = ax.bar(x + 2 * width, both, width, label=\"Both\")\n",
    "\n",
    "\n",
    "ax.set_ylabel(\"F1 Score\")\n",
    "ax.set_title(\"F1 Score by Label\")\n",
    "ax.set_xticks(x)\n",
    "ax.set_xticklabels(labels)\n",
    "ax.legend()\n",
    "\n",
    "plt.show()"
   ]
  },
  {
   "cell_type": "markdown",
   "metadata": {},
   "source": [
    "# save\n",
    "\n",
    "`ephocs` = 1440\n",
    "\n",
    "|    Label    | TP    |   FP  |   FN  | Precision | Recall |   F1  |\n",
    "|-------------|-------|-------|-------|-----------|--------|-------|\n",
    "| BENIGN      | 14287 |   713 |     9 |     0.952 |  0.999 | 0.975 |\n",
    "| Brute Force |   309 |   143 |   559 |     0.684 |  0.356 | 0.468 |\n",
    "| XSS         |   180 |    16 |   304 |     0.918 |  0.372 | 0.529 |\n",
    "\n",
    "masse trening: \n",
    "|    Label    | TP    |   FP  |   FN  | Precision | Recall |   F1  |\n",
    "|-------------|-------|-------|-------|-----------|--------|-------|\n",
    "| BENIGN      |   699 |    51 |     0 |     0.932 |  1.000 | 0.965 |\n",
    "| Brute Force |   315 |   137 |    37 |     0.697 |  0.895 | 0.784 |\n",
    "| XSS         |   190 |     6 |   157 |     0.969 |  0.548 | 0.700 |"
   ]
  },
  {
   "cell_type": "markdown",
   "metadata": {},
   "source": [
    "# Take 2\n",
    "`Epochs = 100`\n",
    "\n",
    "> No knowledge\n",
    "\n",
    "| Label | TP | FP | TN | FN | Precision | Recall | F1 |\n",
    "|-------|----|----|----|----|-----------|--------|----|\n",
    "| Benign | 44207 | 375 | 212 | 6310 | 0.991588533488852 | 0.8750915533384801 | 0.9297048339099254 |\n",
    "| Brute Force | 212 | 5242 | 45625 | 25 | 0.0388705537220 | 0.894514767932 | 0.0745036021788 |\n",
    "| XSS | 129 | 1068 | 49661 | 246 | 0.10776942355889724 | 0.344 | 0.16412213740458015 |\n",
    "\n",
    "> Also only webattacks on web servers\n",
    "\n",
    "| Label | TP | FP | TN | FN | Precision | Recall | F1 |\n",
    "|-------|----|----|----|----|-----------|--------|----|\n",
    "| Benign | 50448 | 303 | 279 | 74 | 0.9940296742921322 | 0.9985352915561537 | 0.9962773888400659 |\n",
    "| Brute Force | 279 | 74 | 50751 | 0 | 0.7903682719546742 | 1.0 | 0.8829113924050632 |\n",
    "| XSS | 130 | 0 | 50801 | 173 | 1.0 | 0.429042904290429 | 0.6004618937644342 |\n",
    "> Also no inside -> inside attacks\n",
    "\n",
    "| Label | TP | FP | TN | FN | Precision | Recall | F1 |\n",
    "|-------|----|----|----|----|-----------|--------|----|\n",
    "| Benign | 50452 | 331 | 253 | 68 | 0.9934820707717149 | 0.9986539984164687 | 0.9960613209875324 |\n",
    "| Brute Force | 253 | 68 | 50783 | 0 | 0.7881619937694704 | 1.0 | 0.8815331010452961 |\n",
    "| XSS | 132 | 0 | 50773 | 199 | 1.0 | 0.3987915407854985 | 0.5701943844492441 |\n",
    "\n",
    "\n",
    "> Together \n",
    "\n",
    "|    type         | Benign F1 | Brute Force F1 | XSS F1 |\n",
    "|-----------------|-----------|----------------|--------|\n",
    "| No Knowledge    | 0.930     | 0.074          | 0.164  |\n",
    "| with Web attack | 0.996     | 0.833          | 0.600  |\n",
    "| no Inside attack| 0.996     | 0.882          | 0.570  |\n"
   ]
  }
 ],
 "metadata": {
  "kernelspec": {
   "display_name": "Python 3",
   "language": "python",
   "name": "python3"
  },
  "language_info": {
   "codemirror_mode": {
    "name": "ipython",
    "version": 3
   },
   "file_extension": ".py",
   "mimetype": "text/x-python",
   "name": "python",
   "nbconvert_exporter": "python",
   "pygments_lexer": "ipython3",
   "version": "3.11.5"
  }
 },
 "nbformat": 4,
 "nbformat_minor": 4
}
